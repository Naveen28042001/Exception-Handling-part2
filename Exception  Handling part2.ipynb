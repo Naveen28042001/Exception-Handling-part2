{
 "cells": [
  {
   "cell_type": "code",
   "execution_count": null,
   "id": "f3d3b405-b120-49ca-96d2-1ec5b20351c2",
   "metadata": {},
   "outputs": [],
   "source": [
    "Q1. Explain why we have to use the Exception class while creating a Custom Exception.\n",
    "\n",
    "Here are a few reasons why the Exception class is used when creating custom exceptions:\n",
    "1.Inheritance from a Standard Exception Base:\n",
    "  Inheriting from the Exception class ensures that your custom exception is part of the standard exception hierarchy in Python. This hierarchy allows you to catch and handle exceptions at different levels, providing flexibility in error handling.\n",
    "2.Consistency and Convention:\n",
    "  Following conventions and using the standard Exception base class makes your code more readable and understandable for other developers. When someone sees a custom exception class, they immediately recognize it as an exception, and they know how to handle it in a general sense.\n",
    "3.Compatibility with Exception Handling Mechanisms:\n",
    "  By inheriting from the Exception class, your custom exception can be caught using a general except clause that catches all exceptions. This makes it compatible with existing exception handling mechanisms and allows you to handle multiple types of exceptions in a consistent manner.\n",
    "4.Interoperability:\n",
    "  When creating libraries or modules that might be used in various projects, using the Exception class ensures interoperability. Other developers can catch your custom exception alongside standard exceptions without any surprises.\n",
    "5.Documentation and IDE Support:\n",
    "  Many integrated development environments (IDEs) and documentation tools recognize the standard exception hierarchy. Inheriting from the Exception class allows IDEs to provide better code suggestions, and documentation tools can generate more meaningful documentation for your custom exception."
   ]
  },
  {
   "cell_type": "code",
   "execution_count": null,
   "id": "d072368b-1863-4979-b7fc-1b02a1a78cb7",
   "metadata": {},
   "outputs": [],
   "source": [
    "Q2. Write a python program to print Python Exception Hierarchy."
   ]
  },
  {
   "cell_type": "code",
   "execution_count": 1,
   "id": "a80fdc4b-0778-4118-8b15-5a6961175dc3",
   "metadata": {},
   "outputs": [
    {
     "name": "stdout",
     "output_type": "stream",
     "text": [
      "Python Exception Hierarchy:\n",
      "Exception\n",
      "  BaseException\n",
      "    object\n"
     ]
    }
   ],
   "source": [
    "def print_exception_hierarchy(exception_class, indent=0):\n",
    "    print(\"  \" * indent + f\"{exception_class.__name__}\")\n",
    "    for base_class in exception_class.__bases__:\n",
    "        print_exception_hierarchy(base_class, indent + 1)\n",
    "\n",
    "if __name__ == \"__main__\":\n",
    "    print(\"Python Exception Hierarchy:\")\n",
    "    print_exception_hierarchy(Exception)"
   ]
  },
  {
   "cell_type": "code",
   "execution_count": null,
   "id": "f170120e-463e-4209-a120-d372dcd44f46",
   "metadata": {},
   "outputs": [],
   "source": [
    "In this program:\n",
    "The print_exception_hierarchy function recursively prints the exception hierarchy starting from the specified exception_class.\n",
    "The program is set up to print the hierarchy starting from the base class Exception.\n",
    "The output will show the hierarchy with increasing indentation levels.\n",
    "The __name__ attribute is used to print the name of each exception class.\n",
    "\n",
    "When you run this program, it will provide you with an overview of the Python exception hierarchy, including built-in exception classes and their relationships. The __bases__ attribute helps to traverse the hierarchy by listing the immediate base classes of each exception class.\n",
    "\n",
    "The output above is a simplified excerpt. In a complete run, you would see a more extensive hierarchy that includes various built-in exception classes derived from Exception.\n"
   ]
  },
  {
   "cell_type": "code",
   "execution_count": null,
   "id": "ff65f920-1b16-42f0-a711-0c2fac37b562",
   "metadata": {},
   "outputs": [],
   "source": [
    "Q3. What errors are defined in the ArithmeticError class? Explain any two with an example.\n"
   ]
  },
  {
   "cell_type": "code",
   "execution_count": null,
   "id": "ff861042-e6e7-4272-a92c-2d990942d84e",
   "metadata": {},
   "outputs": [],
   "source": [
    "1. ZeroDivisionError:\n",
    "  This exception is raised when attempting to divide a number by zero."
   ]
  },
  {
   "cell_type": "code",
   "execution_count": 2,
   "id": "3d849d74-7743-4972-bc78-e7c55039a2f6",
   "metadata": {},
   "outputs": [
    {
     "name": "stdout",
     "output_type": "stream",
     "text": [
      "Error: division by zero\n",
      "Error occurred, result is None.\n"
     ]
    }
   ],
   "source": [
    "def divide_numbers(a, b):\n",
    "    try:\n",
    "        result = a / b\n",
    "        return result\n",
    "    except ZeroDivisionError as e:\n",
    "        print(f\"Error: {e}\")\n",
    "        return None\n",
    "\n",
    "# Example usage\n",
    "result = divide_numbers(10, 0)\n",
    "if result is not None:\n",
    "    print(\"Result:\", result)\n",
    "else:\n",
    "    print(\"Error occurred, result is None.\")"
   ]
  },
  {
   "cell_type": "code",
   "execution_count": null,
   "id": "a7e92a0a-cdb5-4c0e-babd-0bc13fc086c0",
   "metadata": {},
   "outputs": [],
   "source": [
    "2. OverflowError:\n",
    "  This exception is raised when the result of an arithmetic operation exceeds the representational limits of the data type."
   ]
  },
  {
   "cell_type": "code",
   "execution_count": 3,
   "id": "cddb46fd-4e2f-47d8-b1b4-fd3f32ff84c2",
   "metadata": {},
   "outputs": [
    {
     "name": "stdout",
     "output_type": "stream",
     "text": [
      "Result: 402387260077093773543702433923003985719374864210714632543799910429938512398629020592044208486969404800479988610197196058631666872994808558901323829669944590997424504087073759918823627727188732519779505950995276120874975462497043601418278094646496291056393887437886487337119181045825783647849977012476632889835955735432513185323958463075557409114262417474349347553428646576611667797396668820291207379143853719588249808126867838374559731746136085379534524221586593201928090878297308431392844403281231558611036976801357304216168747609675871348312025478589320767169132448426236131412508780208000261683151027341827977704784635868170164365024153691398281264810213092761244896359928705114964975419909342221566832572080821333186116811553615836546984046708975602900950537616475847728421889679646244945160765353408198901385442487984959953319101723355556602139450399736280750137837615307127761926849034352625200015888535147331611702103968175921510907788019393178114194545257223865541461062892187960223838971476088506276862967146674697562911234082439208160153780889893964518263243671616762179168909779911903754031274622289988005195444414282012187361745992642956581746628302955570299024324153181617210465832036786906117260158783520751516284225540265170483304226143974286933061690897968482590125458327168226458066526769958652682272807075781391858178889652208164348344825993266043367660176999612831860788386150279465955131156552036093988180612138558600301435694527224206344631797460594682573103790084024432438465657245014402821885252470935190620929023136493273497565513958720559654228749774011413346962715422845862377387538230483865688976461927383814900140767310446640259899490222221765904339901886018566526485061799702356193897017860040811889729918311021171229845901641921068884387121855646124960798722908519296819372388642614839657382291123125024186649353143970137428531926649875337218940694281434118520158014123344828015051399694290153483077644569099073152433278288269864602789864321139083506217095002597389863554277196742822248757586765752344220207573630569498825087968928162753848863396909959826280956121450994871701244516461260379029309120889086942028510640182154399457156805941872748998094254742173582401063677404595741785160829230135358081840096996372524230560855903700624271243416909004153690105933983835777939410970027753472000000000000000000000000000000000000000000000000000000000000000000000000000000000000000000000000000000000000000000000000000000000000000000000000000000000000000000000000000000000000000000000000000000000000000000000000000000000000000000000000000000000\n"
     ]
    }
   ],
   "source": [
    "def calculate_large_factorial(n):\n",
    "    try:\n",
    "        result = 1\n",
    "        for i in range(1, n + 1):\n",
    "            result *= i\n",
    "        return result\n",
    "    except OverflowError as e:\n",
    "        print(f\"Error: {e}\")\n",
    "        return None\n",
    "\n",
    "# Example usage\n",
    "result = calculate_large_factorial(1000)\n",
    "if result is not None:\n",
    "    print(\"Result:\", result)\n",
    "else:\n",
    "    print(\"Error occurred, result is None.\")"
   ]
  },
  {
   "cell_type": "code",
   "execution_count": null,
   "id": "8dc990f8-16ec-4fab-b6a9-76f3e8ec768c",
   "metadata": {},
   "outputs": [],
   "source": [
    "Q4. Why LookupError class is used? Explain with an example KeyError and IndexError.\n",
    "\n",
    "The LookupError class in Python serves as the base class for exceptions that occur when a key or index is not found. \n",
    "It is a subclass of the Exception class and is itself a parent class for specific lookup-related exception classes, such as KeyError and IndexError."
   ]
  },
  {
   "cell_type": "code",
   "execution_count": null,
   "id": "8f100d24-bb4b-473a-8739-934cfeed3ddd",
   "metadata": {},
   "outputs": [],
   "source": [
    "1. KeyError:\n",
    "A KeyError is raised when attempting to access a dictionary key that does not exist."
   ]
  },
  {
   "cell_type": "code",
   "execution_count": 4,
   "id": "44806185-44c1-4df8-abfb-ff9dabc975c7",
   "metadata": {},
   "outputs": [
    {
     "name": "stdout",
     "output_type": "stream",
     "text": [
      "Error: 'd'\n",
      "Default Value: Default\n"
     ]
    }
   ],
   "source": [
    "my_dict = {'a': 1, 'b': 2, 'c': 3}\n",
    "\n",
    "try:\n",
    "    value = my_dict['d']  # 'd' is not a key in the dictionary\n",
    "    print(\"Value:\", value)\n",
    "except KeyError as e:\n",
    "    print(f\"Error: {e}\")\n",
    "    # Handle the error or provide a default value\n",
    "    value = my_dict.get('d', 'Default')\n",
    "    print(\"Default Value:\", value)"
   ]
  },
  {
   "cell_type": "code",
   "execution_count": null,
   "id": "a99d4152-244a-44dc-8710-a43a6a04827c",
   "metadata": {},
   "outputs": [],
   "source": [
    "2. IndexError:\n",
    "  An IndexError is raised when attempting to access a sequence (like a list or tuple) with an index that is out of range."
   ]
  },
  {
   "cell_type": "code",
   "execution_count": 5,
   "id": "ec73e446-90f4-4371-aa15-168af06118c7",
   "metadata": {},
   "outputs": [
    {
     "name": "stdout",
     "output_type": "stream",
     "text": [
      "Error: list index out of range\n",
      "Default Value: 5\n"
     ]
    }
   ],
   "source": [
    "my_list = [1, 2, 3, 4, 5]\n",
    "\n",
    "try:\n",
    "    value = my_list[10]  # Index 10 is out of range for the list\n",
    "    print(\"Value:\", value)\n",
    "except IndexError as e:\n",
    "    print(f\"Error: {e}\")\n",
    "    # Handle the error or provide a default value\n",
    "    value = my_list[-1]  # Default to the last element\n",
    "    print(\"Default Value:\", value)"
   ]
  },
  {
   "cell_type": "code",
   "execution_count": null,
   "id": "c2d9d169-553f-458c-aede-08fac47ec4bd",
   "metadata": {},
   "outputs": [],
   "source": [
    "Q5. Explain ImportError. What is ModuleNotFoundError?\n",
    "\n",
    "Import Error:\n",
    "  ImportError is a base class for exceptions that occur when importing a module or calling the import statement in Python. It is a subclass of the Exception class and serves as a general category for various import-related errors.\n",
    "\n",
    "ModuleNotFoundErrro:\n",
    "  The ModuleNotFoundError is a specific subclass of ImportError. \n",
    "  It is raised when a specified module cannot be found or imported."
   ]
  },
  {
   "cell_type": "code",
   "execution_count": 6,
   "id": "ea7382ba-227d-4c61-b99b-fa21a2ea7827",
   "metadata": {},
   "outputs": [
    {
     "name": "stdout",
     "output_type": "stream",
     "text": [
      "ImportError: No module named 'non_existent_module'\n",
      "Using a default module or fallback.\n"
     ]
    }
   ],
   "source": [
    "try:\n",
    "    import non_existent_module\n",
    "except ImportError as e:\n",
    "    print(f\"ImportError: {e}\")\n",
    "    # Handle the error or provide alternative code\n",
    "    print(\"Using a default module or fallback.\")"
   ]
  },
  {
   "cell_type": "code",
   "execution_count": 7,
   "id": "6c86dad1-934e-4b9a-9521-1590b3699ae8",
   "metadata": {},
   "outputs": [
    {
     "name": "stdout",
     "output_type": "stream",
     "text": [
      "ModuleNotFoundError: No module named 'non_existent_module'\n",
      "Using a default module or fallback.\n"
     ]
    }
   ],
   "source": [
    "try:\n",
    "    import non_existent_module\n",
    "except ModuleNotFoundError as e:\n",
    "    print(f\"ModuleNotFoundError: {e}\")\n",
    "    # Handle the error or provide alternative code\n",
    "    print(\"Using a default module or fallback.\")"
   ]
  },
  {
   "cell_type": "code",
   "execution_count": null,
   "id": "cf586ab8-1bfa-4283-8a7a-959edb478a85",
   "metadata": {},
   "outputs": [],
   "source": [
    "It's important to note that while ModuleNotFoundError is a subclass of ImportError, if you want to catch either ImportError or ModuleNotFoundError, you can use except ImportError as e: in your code.\n",
    "\n",
    "Handling import errors is crucial for making your code more robust, especially when dealing with optional dependencies or modules that may not be present in all environments. It allows you to gracefully handle situations where a required module cannot be imported, providing fallback mechanisms or alternative code paths."
   ]
  },
  {
   "cell_type": "code",
   "execution_count": null,
   "id": "b3f81106-9953-4776-89b0-51ded8efe9ba",
   "metadata": {},
   "outputs": [],
   "source": [
    "Q6. List down some best practices for exception handling in python."
   ]
  },
  {
   "cell_type": "code",
   "execution_count": null,
   "id": "be78e806-0873-4791-bfdf-48d1a8fa9527",
   "metadata": {},
   "outputs": [],
   "source": [
    "1.Specific Exception Handling:\n",
    "  Be specific about the exceptions you catch. \n",
    "  Avoid using a bare except clause unless absolutely necessary. \n",
    "  Catching specific exceptions helps you handle errors more selectively and avoids unintentionally catching unrelated exceptions.\n"
   ]
  },
  {
   "cell_type": "code",
   "execution_count": null,
   "id": "865460bd-c1a0-4877-a5f4-317db1969a00",
   "metadata": {},
   "outputs": [],
   "source": [
    "try:\n",
    "    # code that may raise an exception\n",
    "except SpecificError as e:\n",
    "    # handle SpecificError"
   ]
  },
  {
   "cell_type": "code",
   "execution_count": null,
   "id": "f96d0702-1042-42c8-b372-f50c74de4a6c",
   "metadata": {},
   "outputs": [],
   "source": [
    "2.Use finally for Cleanup:\n",
    "  When resources need to be released or cleanup actions need to be performed regardless of whether an exception occurred, use a finally block. \n",
    "  This ensures that cleanup code is executed even if an exception is raised."
   ]
  },
  {
   "cell_type": "code",
   "execution_count": null,
   "id": "83e07202-0fbb-400e-a8c8-d03b57baf537",
   "metadata": {},
   "outputs": [],
   "source": [
    "try:\n",
    "    # code that may raise an exception\n",
    "except SomeError as e:\n",
    "    # handle SomeError\n",
    "finally:\n",
    "    # cleanup code (always executed)"
   ]
  },
  {
   "cell_type": "code",
   "execution_count": null,
   "id": "88d8b6e3-e65b-47f6-8a9e-445d5277b034",
   "metadata": {},
   "outputs": [],
   "source": [
    "3.Avoid Overuse of try-except Blocks:\n",
    "  Don't wrap large sections of code in a single try-except block. Instead, isolate only the specific statements that may raise an exception. \n",
    "  This helps narrow down the scope of exception handling."
   ]
  },
  {
   "cell_type": "code",
   "execution_count": null,
   "id": "8f76cd21-c745-44da-88f6-bcb6b50a18c4",
   "metadata": {},
   "outputs": [],
   "source": [
    "4.Use else for Success Code:\n",
    "  Use the else block to include code that should be executed when no exceptions are raised in the try block. \n",
    "  This can improve code readability and separate error-handling logic from the main logic."
   ]
  },
  {
   "cell_type": "code",
   "execution_count": null,
   "id": "2ddb1756-9cc9-492a-8160-614deaaccc65",
   "metadata": {},
   "outputs": [],
   "source": [
    "try:\n",
    "    # code that may raise an exception\n",
    "except SomeError as e:\n",
    "    # handle SomeError\n",
    "else:\n",
    "    # code to run when no exception occurs"
   ]
  },
  {
   "cell_type": "code",
   "execution_count": null,
   "id": "28b2d9f4-9e72-4466-b740-e0c5896272b6",
   "metadata": {},
   "outputs": [],
   "source": [
    "5.Avoid Silent Failures:\n",
    "  Avoid catching exceptions without handling them or providing meaningful error messages. Silent failures can make debugging difficult and hide issues in your code.\n",
    "\n",
    "try:\n",
    "    # code that may raise an exception\n",
    "except SomeError as e:\n",
    "    pass  # Silent failure, not recommended"
   ]
  },
  {
   "cell_type": "code",
   "execution_count": null,
   "id": "1f3b6fc3-09cc-432e-be0f-5e5ab7e4084d",
   "metadata": {},
   "outputs": [],
   "source": [
    "6.Log Exceptions:\n",
    "  Use logging to record exception details, including the stack trace. This information is valuable for debugging and identifying the root cause of issues.\n",
    "\n",
    "import logging\n",
    "\n",
    "try:\n",
    "    # code that may raise an exception\n",
    "except SomeError as e:\n",
    "    logging.exception(\"An error occurred:\")"
   ]
  },
  {
   "cell_type": "code",
   "execution_count": null,
   "id": "e323b812-d1d5-47b4-a2d1-d78c63559f4d",
   "metadata": {},
   "outputs": [],
   "source": [
    "7.Handle Multiple Exceptions:\n",
    "  If your code can raise multiple types of exceptions, handle them individually or use a tuple to catch multiple exceptions in a single except block.\n",
    "\n",
    "try:\n",
    "    # code that may raise an exception\n",
    "except (SpecificError1, SpecificError2) as e:\n",
    "    # handle SpecificError1 or SpecificError2"
   ]
  },
  {
   "cell_type": "code",
   "execution_count": null,
   "id": "464bf774-89a3-4b77-a383-9c9b2ff9ad96",
   "metadata": {},
   "outputs": [],
   "source": [
    "8.Reraise Exceptions Judiciously:\n",
    "  If you need to reraise an exception after handling it, use raise without any arguments. This preserves the original traceback information.\n",
    "\n",
    "try:\n",
    "    # code that may raise an exception\n",
    "except SomeError as e:\n",
    "    # handle SomeError\n",
    "    raise  # reraise the exception"
   ]
  },
  {
   "cell_type": "code",
   "execution_count": null,
   "id": "9017b51a-4169-4e81-aa29-cf61ee88666f",
   "metadata": {},
   "outputs": [],
   "source": [
    "9.Custom Exceptions:\n",
    "  Define custom exception classes when needed to capture specific error conditions in your application. This can make your code more expressive and help with modular error handling.\n",
    "\n",
    "class CustomError(Exception):\n",
    "    pass\n",
    "\n",
    "try:\n",
    "    # code that may raise an exception\n",
    "except SpecificError as e:\n",
    "    raise CustomError(\"An error occurred in a specific context.\")"
   ]
  },
  {
   "cell_type": "code",
   "execution_count": null,
   "id": "c5c39fe9-7e3f-47fc-8d61-166aa01e423c",
   "metadata": {},
   "outputs": [],
   "source": [
    "10.Consider Context Managers:\n",
    "  Use context managers (with statements) when dealing with resources that need to be managed (e.g., file handling, database connections). This helps ensure proper cleanup even if an exception occurs.\n",
    "\n",
    "with open(\"example.txt\", \"r\") as file:\n",
    "    # code that reads from the file"
   ]
  }
 ],
 "metadata": {
  "kernelspec": {
   "display_name": "Python 3 (ipykernel)",
   "language": "python",
   "name": "python3"
  },
  "language_info": {
   "codemirror_mode": {
    "name": "ipython",
    "version": 3
   },
   "file_extension": ".py",
   "mimetype": "text/x-python",
   "name": "python",
   "nbconvert_exporter": "python",
   "pygments_lexer": "ipython3",
   "version": "3.10.8"
  }
 },
 "nbformat": 4,
 "nbformat_minor": 5
}
